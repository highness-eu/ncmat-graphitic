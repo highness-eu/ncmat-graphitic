{
 "cells": [
  {
   "cell_type": "code",
   "execution_count": 1,
   "metadata": {},
   "outputs": [],
   "source": [
    "import NCrystal as NC\n",
    "import numpy as np\n",
    "from plotly.subplots import make_subplots\n",
    "import plotly.graph_objects as go"
   ]
  },
  {
   "cell_type": "code",
   "execution_count": 2,
   "metadata": {},
   "outputs": [],
   "source": [
    "T = 300 # temperature "
   ]
  },
  {
   "cell_type": "code",
   "execution_count": 3,
   "metadata": {},
   "outputs": [],
   "source": [
    "wavelength = np.linspace(0,25,1000)\n",
    "E = NC.wl2ekin(wavelength)"
   ]
  },
  {
   "cell_type": "code",
   "execution_count": 4,
   "metadata": {},
   "outputs": [],
   "source": [
    "# deuterated\n",
    "GO_D_sm_nos = NC.createScatter('ncmat-graphitic/HighNESS_DeuteratedGraphiteOxide_small_model_sg1_C8O3D2.ncmat;temp={}K'.format(T))\n",
    "GO_D_lg_nos = NC.createScatter('ncmat-graphitic/HighNESS_DeuteratedGraphiteOxide_large_model_sg1_C18O3D2.ncmat;temp={}K'.format(T))\n",
    "GO_D_wt_nos = NC.createScatter('ncmat-graphitic/HighNESS_DeuteratedGraphiteOxideWater_sg1_C8O3D2-D2O.ncmat;temp={}K'.format(T))\n",
    "\n",
    "xs_GO_D_sm_nos = GO_D_sm_nos.crossSectionNonOriented(E)\n",
    "xs_GO_D_lg_nos = GO_D_lg_nos.crossSectionNonOriented(E)\n",
    "xs_GO_D_wt_nos = GO_D_wt_nos.crossSectionNonOriented(E)"
   ]
  },
  {
   "cell_type": "code",
   "execution_count": 6,
   "metadata": {},
   "outputs": [
    {
     "data": {
      "image/svg+xml": [
       "<svg class=\"main-svg\" xmlns=\"http://www.w3.org/2000/svg\" xmlns:xlink=\"http://www.w3.org/1999/xlink\" width=\"700\" height=\"500\" style=\"\" viewBox=\"0 0 700 500\"><rect x=\"0\" y=\"0\" width=\"700\" height=\"500\" style=\"fill: rgb(0, 0, 0); fill-opacity: 0;\"/><defs id=\"defs-b8463d\"><g class=\"clips\"><clipPath id=\"clipb8463dxyplot\" class=\"plotclip\"><rect width=\"600\" height=\"408\"/></clipPath><clipPath class=\"axesclip\" id=\"clipb8463dx\"><rect x=\"80\" y=\"0\" width=\"600\" height=\"500\"/></clipPath><clipPath class=\"axesclip\" id=\"clipb8463dy\"><rect x=\"0\" y=\"20\" width=\"700\" height=\"408\"/></clipPath><clipPath class=\"axesclip\" id=\"clipb8463dxy\"><rect x=\"80\" y=\"20\" width=\"600\" height=\"408\"/></clipPath></g><g class=\"gradients\"/><g class=\"patterns\"/></defs><g class=\"bglayer\"><rect class=\"bg\" x=\"80\" y=\"20\" width=\"600\" height=\"408\" style=\"fill: rgb(0, 0, 0); fill-opacity: 0; stroke-width: 0;\"/></g><g class=\"layer-below\"><g class=\"imagelayer\"/><g class=\"shapelayer\"/></g><g class=\"cartesianlayer\"><g class=\"subplot xy\"><g class=\"layer-subplot\"><g class=\"shapelayer\"/><g class=\"imagelayer\"/></g><g class=\"minor-gridlayer\"><g class=\"x\"/><g class=\"y\"/></g><g class=\"gridlayer\"><g class=\"x\"><path class=\"xgrid crisp\" transform=\"translate(200,0)\" d=\"M0,20v408\" style=\"stroke: rgb(128, 128, 128); stroke-opacity: 1; stroke-width: 0.5px;\"/><path class=\"xgrid crisp\" transform=\"translate(320,0)\" d=\"M0,20v408\" style=\"stroke: rgb(128, 128, 128); stroke-opacity: 1; stroke-width: 0.5px;\"/><path class=\"xgrid crisp\" transform=\"translate(440,0)\" d=\"M0,20v408\" style=\"stroke: rgb(128, 128, 128); stroke-opacity: 1; stroke-width: 0.5px;\"/><path class=\"xgrid crisp\" transform=\"translate(560,0)\" d=\"M0,20v408\" style=\"stroke: rgb(128, 128, 128); stroke-opacity: 1; stroke-width: 0.5px;\"/></g><g class=\"y\"><path class=\"ygrid crisp\" transform=\"translate(0,346.4)\" d=\"M80,0h600\" style=\"stroke: rgb(128, 128, 128); stroke-opacity: 1; stroke-width: 0.5px;\"/><path class=\"ygrid crisp\" transform=\"translate(0,264.8)\" d=\"M80,0h600\" style=\"stroke: rgb(128, 128, 128); stroke-opacity: 1; stroke-width: 0.5px;\"/><path class=\"ygrid crisp\" transform=\"translate(0,183.2)\" d=\"M80,0h600\" style=\"stroke: rgb(128, 128, 128); stroke-opacity: 1; stroke-width: 0.5px;\"/><path class=\"ygrid crisp\" transform=\"translate(0,101.6)\" d=\"M80,0h600\" style=\"stroke: rgb(128, 128, 128); stroke-opacity: 1; stroke-width: 0.5px;\"/></g></g><g class=\"zerolinelayer\"/><path class=\"xlines-below\"/><path class=\"ylines-below\"/><g class=\"overlines-below\"/><g class=\"xaxislayer-below\"/><g class=\"yaxislayer-below\"/><g class=\"overaxes-below\"/><g class=\"plot\" transform=\"translate(80,20)\" clip-path=\"url(#clipb8463dxyplot)\"><g class=\"scatterlayer mlayer\"><g class=\"trace scatter trace1aa6f8\" style=\"stroke-miterlimit: 2; opacity: 1;\"><g class=\"fills\"/><g class=\"errorbars\"/><g class=\"lines\"><path class=\"js-line\" d=\"M0,232.81L6.01,232.16L6.61,232.01L13.81,229.62L14.41,229.21L18.62,227.5L19.22,226.84L20.42,226.06L21.02,225.34L22.22,224.5L22.82,226.06L24.62,223.11L25.23,221.39L28.23,217.43L28.83,218.31L29.43,217.86L30.03,221.27L32.43,215.38L33.03,214.74L34.23,218.3L34.83,221.03L35.44,218.83L36.04,219.56L37.84,217.77L38.44,217.48L39.04,216.75L39.64,218.24L40.24,217.93L40.84,215.36L44.44,205.76L45.05,206.04L46.25,205.68L46.85,203.62L49.25,195.44L49.85,201.21L51.05,200.94L51.65,211.36L53.45,206.99L54.05,207.34L54.65,204.54L55.26,213.76L56.46,209.26L57.06,218.55L57.66,222.08L58.26,220.08L58.86,218.9L59.46,231.41L60.66,247.39L61.26,245.04L61.86,242.82L62.46,244.88L63.06,246.37L63.66,245.02L64.26,245.05L64.86,243.82L65.47,243.57L66.07,241.62L66.67,239.5L67.27,240.58L69.67,233.54L70.27,231.19L70.87,231.6L71.47,230.42L72.67,236.75L73.27,236.97L74.47,233.52L75.08,233.86L75.68,233.24L76.28,234.13L76.88,232.06L77.48,230.21L78.08,238.09L78.68,237.43L79.28,235.17L82.88,222.93L83.48,229.48L88.89,211.09L89.49,213.2L94.89,194.31L95.5,207.59L96.7,203.11L97.3,205.87L97.9,206.47L98.5,204.28L99.1,204.55L99.7,210.8L100.9,206.59L101.5,206.77L102.1,207.5L105.11,249.7L105.71,248.37L109.91,239.47L110.51,238.48L112.91,232.05L113.51,240.7L114.71,237.63L115.32,239.01L116.52,235.96L117.12,276.34L118.32,280.53L118.92,279.47L120.12,278.39L120.72,281.29L124.32,275.02L124.92,278.77L125.53,282.79L126.13,281.82L126.73,280.83L129.13,277.34L129.73,281.4L145.35,255.07L145.95,254L148.95,248.59L149.55,256.2L150.15,259.5L150.75,258.5L154.95,251.39L155.56,253.27L156.16,257.04L156.76,256.07L157.36,255.08L160.36,250.11L160.96,270.63L161.56,272.91L162.16,272.08L180.18,245.92L180.78,245L183.78,240.37L184.38,260.18L189.79,252.87L190.39,254.26L190.99,254.6L191.59,253.79L193.99,250.53L194.59,255.88L195.2,256.25L195.8,255.47L206.61,241.04L207.21,271.92L207.81,271.28L208.41,273.3L230.63,248.9L231.23,248.21L233.63,245.43L234.23,370.01L467.27,346.43L467.87,348.1L600,335.2\" style=\"vector-effect: non-scaling-stroke; fill: none; stroke: rgb(99, 110, 250); stroke-opacity: 1; stroke-width: 2px; opacity: 1;\"/></g><g class=\"points\"/><g class=\"text\"/></g><g class=\"trace scatter tracefd7919\" style=\"stroke-miterlimit: 2; opacity: 1;\"><g class=\"fills\"/><g class=\"errorbars\"/><g class=\"lines\"><path class=\"js-line\" d=\"M0,225.17L7.81,224.42L8.41,224.3L17.42,221.7L18.02,220.94L22.22,218.27L22.82,219.41L27.63,211.15L28.23,211.61L29.43,212.76L30.03,214.2L31.83,211.11L32.43,211.08L33.03,209.5L33.63,210.79L34.83,214.28L35.44,213.3L38.44,210.34L39.04,212.59L42.64,202.2L43.24,200.39L44.44,196.76L45.05,197.12L46.25,196.13L46.85,193.2L48.05,195.43L48.65,193.65L50.45,192.51L51.05,195.4L52.25,200.05L52.85,197.08L54.05,204.9L54.65,203.61L55.26,202.39L55.86,203.21L57.66,210.8L58.26,224.43L58.86,226.35L59.46,247.84L60.06,247.67L60.66,246.71L63.66,241.32L64.26,239.27L66.07,235.79L66.67,235.79L70.27,226.24L70.87,227.24L72.67,223.23L73.27,223.56L73.87,222.75L74.47,229.09L75.08,228.89L75.68,226.45L76.28,224.29L76.88,225.29L77.48,223.58L78.08,224.39L80.48,217.94L81.08,218.04L84.68,206.06L85.29,204.79L85.89,204.54L86.49,202.78L87.69,198.78L88.29,200.87L89.49,196.6L90.09,197.81L90.69,195.28L91.29,200.8L91.89,198.57L92.49,201.83L94.29,195.05L94.89,195.93L95.5,194.24L96.1,198.01L96.7,199.92L97.3,197.56L97.9,197.37L98.5,195.12L99.1,193.94L99.7,198.32L101.5,194.21L102.1,201.65L103.3,224.33L103.9,224.63L106.31,218.62L106.91,218.6L107.51,217.97L108.11,216.06L111.11,207.85L111.71,261.81L115.92,255.05L116.52,255.15L117.12,254.83L117.72,253.45L118.32,253.07L118.92,251.69L119.52,251.71L120.12,250.32L122.52,246.1L123.12,246.07L124.92,241.85L125.53,242.49L132.13,227.36L132.73,228.57L133.33,228.34L133.93,226.88L134.53,226.81L135.14,225.36L140.54,213L141.14,216.11L143.54,210.35L144.14,214.07L144.74,215.51L145.35,214.63L146.55,211.73L147.15,212.71L153.15,198.37L153.75,198.85L154.95,196.65L155.56,195.16L159.76,184.51L160.36,185.38L163.96,176.67L164.56,177.28L168.77,168.27L169.37,167.57L172.97,160.21L173.57,160.94L174.77,157.77L175.38,166.66L177.18,162.06L177.78,162.43L178.38,164.24L178.98,165.76L179.58,164.26L182.58,156.68L183.18,165.83L186.19,158.46L186.79,160.88L188.59,156.46L189.19,157.31L206.61,112.76L207.21,111.16L222.22,69.55L222.82,330.78L242.64,320.22L243.24,326.28L245.65,325.07L246.25,326.62L250.45,324.54L251.05,336.6L256.46,334.41L257.06,345.57L261.26,344.21L261.86,346.19L264.26,345.44L264.86,353.79L306.91,342.8L307.51,348.94L308.11,352.47L308.71,371.72L445.05,359.73L445.65,360.51L600,347.17\" style=\"vector-effect: non-scaling-stroke; fill: none; stroke: rgb(239, 85, 59); stroke-opacity: 1; stroke-width: 2px; opacity: 1; stroke-dasharray: 9px, 9px;\"/></g><g class=\"points\"/><g class=\"text\"/></g><g class=\"trace scatter trace5e5441\" style=\"stroke-miterlimit: 2; opacity: 1;\"><g class=\"fills\"/><g class=\"errorbars\"/><g class=\"lines\"><path class=\"js-line\" d=\"M0,238.81L5.41,238.06L6.01,237.89L12.01,235.26L12.61,234.81L21.02,227.46L21.62,226.73L22.22,226.3L22.82,227.24L25.83,222.54L26.43,221.62L28.23,219.51L28.83,219.9L29.43,220.15L30.03,221.51L33.03,216.47L33.63,217L34.23,217.55L34.83,220.17L35.44,219.87L36.04,217.6L36.64,219.04L37.24,217.78L38.44,216.5L39.04,217.17L39.64,217.61L40.24,216.26L44.44,205L45.05,205.02L45.65,205.39L46.25,202.98L47.45,201.48L48.05,200.18L48.65,201.85L49.25,200.95L49.85,200.95L50.45,202.13L51.65,202.12L52.25,205.96L54.05,203.56L54.65,204.15L55.86,201.98L56.46,206.45L57.06,207.39L57.66,211.45L58.86,216.35L59.46,224.41L60.06,237.55L60.66,236.96L61.26,234.87L62.46,232.92L63.06,232.09L64.26,232.31L64.86,231.2L67.27,225.43L67.87,225.06L70.87,218.67L71.47,219.06L72.67,215.67L73.27,217L73.87,216.08L74.47,218.75L76.28,215.39L76.88,216.26L77.48,214.15L78.08,214.68L78.68,215.51L79.28,213.27L79.88,215.63L84.68,199.45L85.29,197.66L86.49,197.86L87.09,197.25L90.09,190.44L90.69,192.91L92.49,187.16L93.09,191.57L94.89,188.74L95.5,186.63L96.1,184.29L96.7,184.97L97.3,182.63L97.9,187.07L98.5,184.79L99.1,200.94L100.3,199.02L100.9,199.85L104.5,243.07L105.11,241.81L111.11,227.99L111.71,227.74L112.31,226.18L112.91,227.34L115.32,221.12L115.92,223.16L117.12,220.73L117.72,223.89L118.32,229.49L118.92,228.98L119.52,228.18L120.12,229.04L120.72,227.6L121.32,230.9L121.92,229.5L122.52,237.14L123.12,235.81L123.72,235.46L137.54,203.38L138.14,201.91L138.74,200.44L139.34,201.44L139.94,199.97L140.54,201.38L141.74,198.47L142.34,215.05L143.54,212.41L144.14,213.69L145.95,211.02L146.55,228L147.75,225.65L148.35,265.05L165.17,239.83L165.77,250.15L166.37,249.28L166.97,255.5L168.77,253.03L169.37,254.22L171.17,251.75L171.77,270.31L173.57,268.25L174.17,271.42L192.19,250.23L192.79,251.47L193.39,252.39L193.99,251.67L195.2,250.23L195.8,267.29L197,266.05L197.6,271.22L198.2,270.63L198.8,278.83L206.61,271.72L207.21,288.3L207.81,287.84L208.41,295.96L233.63,277.85L234.23,277.4L259.46,257.57L260.06,257.08L291.89,229.61L292.49,229.06L295.5,226.33L296.1,339.11L559.16,298.9L559.76,298.8L600,292.71\" style=\"vector-effect: non-scaling-stroke; fill: none; stroke: rgb(0, 204, 150); stroke-opacity: 1; stroke-width: 2px; opacity: 1; stroke-dasharray: 3px, 3px;\"/></g><g class=\"points\"/><g class=\"text\"/></g></g></g><g class=\"overplot\"/><path class=\"xlines-above crisp\" d=\"M79,428.5H681M79,19.5H681\" style=\"fill: none; stroke-width: 1px; stroke: rgb(0, 0, 0); stroke-opacity: 1;\"/><path class=\"ylines-above crisp\" d=\"M79.5,20V428M680.5,20V428\" style=\"fill: none; stroke-width: 1px; stroke: rgb(0, 0, 0); stroke-opacity: 1;\"/><g class=\"overlines-above\"/><g class=\"xaxislayer-above\"><path class=\"xtick ticks crisp\" d=\"M0,429v5\" transform=\"translate(80,0)\" style=\"stroke: rgb(68, 68, 68); stroke-opacity: 1; stroke-width: 1px;\"/><path class=\"xtick ticks crisp\" d=\"M0,429v5\" transform=\"translate(200,0)\" style=\"stroke: rgb(68, 68, 68); stroke-opacity: 1; stroke-width: 1px;\"/><path class=\"xtick ticks crisp\" d=\"M0,429v5\" transform=\"translate(320,0)\" style=\"stroke: rgb(68, 68, 68); stroke-opacity: 1; stroke-width: 1px;\"/><path class=\"xtick ticks crisp\" d=\"M0,429v5\" transform=\"translate(440,0)\" style=\"stroke: rgb(68, 68, 68); stroke-opacity: 1; stroke-width: 1px;\"/><path class=\"xtick ticks crisp\" d=\"M0,429v5\" transform=\"translate(560,0)\" style=\"stroke: rgb(68, 68, 68); stroke-opacity: 1; stroke-width: 1px;\"/><path class=\"xtick ticks crisp\" d=\"M0,429v5\" transform=\"translate(680,0)\" style=\"stroke: rgb(68, 68, 68); stroke-opacity: 1; stroke-width: 1px;\"/><g class=\"xtick\"><text text-anchor=\"middle\" x=\"0\" y=\"453.2\" transform=\"translate(80,0)\" style=\"font-family: 'Times new roman'; font-size: 16px; fill: rgb(42, 63, 95); fill-opacity: 1; white-space: pre; opacity: 1;\">0</text></g><g class=\"xtick\"><text text-anchor=\"middle\" x=\"0\" y=\"453.2\" style=\"font-family: 'Times new roman'; font-size: 16px; fill: rgb(42, 63, 95); fill-opacity: 1; white-space: pre; opacity: 1;\" transform=\"translate(200,0)\">5</text></g><g class=\"xtick\"><text text-anchor=\"middle\" x=\"0\" y=\"453.2\" style=\"font-family: 'Times new roman'; font-size: 16px; fill: rgb(42, 63, 95); fill-opacity: 1; white-space: pre; opacity: 1;\" transform=\"translate(320,0)\">10</text></g><g class=\"xtick\"><text text-anchor=\"middle\" x=\"0\" y=\"453.2\" style=\"font-family: 'Times new roman'; font-size: 16px; fill: rgb(42, 63, 95); fill-opacity: 1; white-space: pre; opacity: 1;\" transform=\"translate(440,0)\">15</text></g><g class=\"xtick\"><text text-anchor=\"middle\" x=\"0\" y=\"453.2\" style=\"font-family: 'Times new roman'; font-size: 16px; fill: rgb(42, 63, 95); fill-opacity: 1; white-space: pre; opacity: 1;\" transform=\"translate(560,0)\">20</text></g><g class=\"xtick\"><text text-anchor=\"middle\" x=\"0\" y=\"453.2\" style=\"font-family: 'Times new roman'; font-size: 16px; fill: rgb(42, 63, 95); fill-opacity: 1; white-space: pre; opacity: 1;\" transform=\"translate(680,0)\">25</text></g></g><g class=\"yaxislayer-above\"><path class=\"ytick ticks crisp\" d=\"M79,0h-5\" transform=\"translate(0,428)\" style=\"stroke: rgb(68, 68, 68); stroke-opacity: 1; stroke-width: 1px;\"/><path class=\"ytick ticks crisp\" d=\"M79,0h-5\" transform=\"translate(0,346.4)\" style=\"stroke: rgb(68, 68, 68); stroke-opacity: 1; stroke-width: 1px;\"/><path class=\"ytick ticks crisp\" d=\"M79,0h-5\" transform=\"translate(0,264.8)\" style=\"stroke: rgb(68, 68, 68); stroke-opacity: 1; stroke-width: 1px;\"/><path class=\"ytick ticks crisp\" d=\"M79,0h-5\" transform=\"translate(0,183.2)\" style=\"stroke: rgb(68, 68, 68); stroke-opacity: 1; stroke-width: 1px;\"/><path class=\"ytick ticks crisp\" d=\"M79,0h-5\" transform=\"translate(0,101.6)\" style=\"stroke: rgb(68, 68, 68); stroke-opacity: 1; stroke-width: 1px;\"/><path class=\"ytick ticks crisp\" d=\"M79,0h-5\" transform=\"translate(0,20)\" style=\"stroke: rgb(68, 68, 68); stroke-opacity: 1; stroke-width: 1px;\"/><g class=\"ytick\"><text text-anchor=\"end\" x=\"70.8\" y=\"5.6\" transform=\"translate(0,428)\" style=\"font-family: 'Times new roman'; font-size: 16px; fill: rgb(42, 63, 95); fill-opacity: 1; white-space: pre; opacity: 1;\">0</text></g><g class=\"ytick\"><text text-anchor=\"end\" x=\"70.8\" y=\"5.6\" style=\"font-family: 'Times new roman'; font-size: 16px; fill: rgb(42, 63, 95); fill-opacity: 1; white-space: pre; opacity: 1;\" transform=\"translate(0,346.4)\">2</text></g><g class=\"ytick\"><text text-anchor=\"end\" x=\"70.8\" y=\"5.6\" style=\"font-family: 'Times new roman'; font-size: 16px; fill: rgb(42, 63, 95); fill-opacity: 1; white-space: pre; opacity: 1;\" transform=\"translate(0,264.8)\">4</text></g><g class=\"ytick\"><text text-anchor=\"end\" x=\"70.8\" y=\"5.6\" style=\"font-family: 'Times new roman'; font-size: 16px; fill: rgb(42, 63, 95); fill-opacity: 1; white-space: pre; opacity: 1;\" transform=\"translate(0,183.2)\">6</text></g><g class=\"ytick\"><text text-anchor=\"end\" x=\"70.8\" y=\"5.6\" style=\"font-family: 'Times new roman'; font-size: 16px; fill: rgb(42, 63, 95); fill-opacity: 1; white-space: pre; opacity: 1;\" transform=\"translate(0,101.6)\">8</text></g><g class=\"ytick\"><text text-anchor=\"end\" x=\"70.8\" y=\"5.6\" style=\"font-family: 'Times new roman'; font-size: 16px; fill: rgb(42, 63, 95); fill-opacity: 1; white-space: pre; opacity: 1;\" transform=\"translate(0,20)\">10</text></g></g><g class=\"overaxes-above\"/></g></g><g class=\"polarlayer\"/><g class=\"smithlayer\"/><g class=\"ternarylayer\"/><g class=\"geolayer\"/><g class=\"funnelarealayer\"/><g class=\"pielayer\"/><g class=\"iciclelayer\"/><g class=\"treemaplayer\"/><g class=\"sunburstlayer\"/><g class=\"glimages\"/><defs id=\"topdefs-b8463d\"><g class=\"clips\"/><clipPath id=\"legendb8463d\"><rect width=\"372\" height=\"90\" x=\"1\" y=\"1\"/></clipPath></defs><g class=\"layer-above\"><g class=\"imagelayer\"/><g class=\"shapelayer\"/></g><g class=\"infolayer\"><g class=\"legend\" pointer-events=\"all\" transform=\"translate(306.2,20)\"><rect class=\"bg\" shape-rendering=\"crispEdges\" width=\"373\" height=\"91\" x=\"0.5\" y=\"0.5\" style=\"stroke: rgb(0, 0, 0); stroke-opacity: 1; fill: rgb(0, 0, 0); fill-opacity: 0; stroke-width: 1px;\"/><g class=\"scrollbox\" transform=\"\" clip-path=\"url(#legendb8463d)\"><g class=\"groups\"><g class=\"traces\" transform=\"translate(1,19.200000000000003)\" style=\"opacity: 1;\"><text class=\"legendtext\" text-anchor=\"start\" x=\"40\" y=\"7.0200000000000005\" style=\"font-family: 'Times new roman'; font-size: 18px; fill: rgb(42, 63, 95); fill-opacity: 1; white-space: pre;\">Small model of deuterated GO</text><g class=\"layers\" style=\"opacity: 1;\"><g class=\"legendfill\"/><g class=\"legendlines\"><path class=\"js-line\" d=\"M5,0h30\" style=\"fill: none; stroke: rgb(99, 110, 250); stroke-opacity: 1; stroke-width: 2px;\"/></g><g class=\"legendsymbols\"><g class=\"legendpoints\"/></g></g><rect class=\"legendtoggle\" x=\"0\" y=\"-13.200000000000001\" width=\"366.46875\" height=\"26.400000000000002\" style=\"fill: rgb(0, 0, 0); fill-opacity: 0;\"/></g><g class=\"traces\" transform=\"translate(1,45.6)\" style=\"opacity: 1;\"><text class=\"legendtext\" text-anchor=\"start\" x=\"40\" y=\"7.0200000000000005\" style=\"font-family: 'Times new roman'; font-size: 18px; fill: rgb(42, 63, 95); fill-opacity: 1; white-space: pre;\">Large model of deuterated GO</text><g class=\"layers\" style=\"opacity: 1;\"><g class=\"legendfill\"/><g class=\"legendlines\"><path class=\"js-line\" d=\"M5,0h30\" style=\"fill: none; stroke: rgb(239, 85, 59); stroke-opacity: 1; stroke-dasharray: 9px, 9px; stroke-width: 2px;\"/></g><g class=\"legendsymbols\"><g class=\"legendpoints\"/></g></g><rect class=\"legendtoggle\" x=\"0\" y=\"-13.200000000000001\" width=\"366.46875\" height=\"26.400000000000002\" style=\"fill: rgb(0, 0, 0); fill-opacity: 0;\"/></g><g class=\"traces\" transform=\"translate(1,72)\" style=\"opacity: 1;\"><text class=\"legendtext\" text-anchor=\"start\" x=\"40\" y=\"7.0200000000000005\" style=\"font-family: 'Times new roman'; font-size: 18px; fill: rgb(42, 63, 95); fill-opacity: 1; white-space: pre;\">Deuterated GO intercalated with heavy water</text><g class=\"layers\" style=\"opacity: 1;\"><g class=\"legendfill\"/><g class=\"legendlines\"><path class=\"js-line\" d=\"M5,0h30\" style=\"fill: none; stroke: rgb(0, 204, 150); stroke-opacity: 1; stroke-dasharray: 3px, 3px; stroke-width: 2px;\"/></g><g class=\"legendsymbols\"><g class=\"legendpoints\"/></g></g><rect class=\"legendtoggle\" x=\"0\" y=\"-13.200000000000001\" width=\"366.46875\" height=\"26.400000000000002\" style=\"fill: rgb(0, 0, 0); fill-opacity: 0;\"/></g></g></g><rect class=\"scrollbar\" rx=\"20\" ry=\"3\" width=\"0\" height=\"0\" x=\"0\" y=\"0\" style=\"fill: rgb(128, 139, 164); fill-opacity: 1;\"/></g><g class=\"g-gtitle\"/><g class=\"g-xtitle\"><text class=\"xtitle\" x=\"380\" y=\"488.003125\" text-anchor=\"middle\" style=\"font-family: 'Times new roman'; font-size: 24px; fill: rgb(42, 63, 95); opacity: 1; font-weight: normal; white-space: pre;\">Neutron wavelength (Angstrom)</text></g><g class=\"g-ytitle\"><text class=\"ytitle\" transform=\"rotate(-90,22.996875000000003,224)\" x=\"22.996875000000003\" y=\"224\" text-anchor=\"middle\" style=\"font-family: 'Times new roman'; font-size: 24px; fill: rgb(42, 63, 95); opacity: 1; font-weight: normal; white-space: pre;\">Scattering cross section per atom (barn)</text></g></g></svg>"
      ]
     },
     "metadata": {},
     "output_type": "display_data"
    }
   ],
   "source": [
    "fig = make_subplots(rows = 1, cols = 1)\n",
    "fig.add_trace(\n",
    "    go.Scatter(\n",
    "        x = wavelength,\n",
    "        y = xs_GO_D_sm_nos,\n",
    "        mode = 'lines',\n",
    "        #line_dash = 'dash',\n",
    "        name = 'Small model of deuterated GO',\n",
    "    ),\n",
    "    row = 1, col = 1\n",
    ")\n",
    "fig.add_trace(\n",
    "    go.Scatter(\n",
    "        x = wavelength,\n",
    "        y = xs_GO_D_lg_nos,\n",
    "        mode = 'lines',\n",
    "        line_dash = 'dash',\n",
    "        name = 'Large model of deuterated GO',\n",
    "    ),\n",
    "    row = 1, col = 1\n",
    ")\n",
    "fig.add_trace(\n",
    "    go.Scatter(\n",
    "        x = wavelength,\n",
    "        y = xs_GO_D_wt_nos,\n",
    "        mode = 'lines',\n",
    "        line_dash = 'dot',\n",
    "        name = 'Deuterated GO intercalated with heavy water',\n",
    "    ),\n",
    "    row = 1, col = 1\n",
    ")\n",
    "\n",
    "fig.update_xaxes(tickfont = dict(size = 16), linecolor = 'black', mirror = True, \n",
    "                 ticks = 'outside', exponentformat = 'power', row = 1, col = 1, \n",
    "                 #type = 'log', \n",
    "                 title = 'Neutron wavelength (Angstrom)', \n",
    "                 showgrid=True, gridwidth=.5, gridcolor='grey')\n",
    "fig.update_yaxes(tickfont = dict(size = 16), linecolor = 'black', mirror = True, \n",
    "                 ticks = 'outside', exponentformat = 'power', row = 1, col = 1, \n",
    "                 #type = 'log', \n",
    "                 range = [0,10],\n",
    "                 title = 'Scattering cross section per atom (barn)',\n",
    "                 showgrid=True, gridwidth=.5, gridcolor='grey')\n",
    "fig.update_layout(\n",
    "    paper_bgcolor = 'rgba(0,0,0,0)',\n",
    "    plot_bgcolor = 'rgba(0,0,0,0)',\n",
    "    font = dict(family = 'Times new roman', size = 20),\n",
    "    legend = dict(x = 0.377, y = 1., bordercolor = \"Black\", borderwidth = 1, font = dict(size = 18)),\n",
    "    margin = dict(l = 80, r = 20, t = 20, b = 60),\n",
    "    autosize=False,\n",
    "    width=700,\n",
    "    height=500\n",
    ")\n",
    "fig.show('svg')"
   ]
  },
  {
   "cell_type": "code",
   "execution_count": null,
   "metadata": {},
   "outputs": [],
   "source": []
  }
 ],
 "metadata": {
  "kernelspec": {
   "display_name": "Python 3 (ipykernel)",
   "language": "python",
   "name": "python3"
  },
  "language_info": {
   "codemirror_mode": {
    "name": "ipython",
    "version": 3
   },
   "file_extension": ".py",
   "mimetype": "text/x-python",
   "name": "python",
   "nbconvert_exporter": "python",
   "pygments_lexer": "ipython3",
   "version": "3.9.16"
  }
 },
 "nbformat": 4,
 "nbformat_minor": 4
}
