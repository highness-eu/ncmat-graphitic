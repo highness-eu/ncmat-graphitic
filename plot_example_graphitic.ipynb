{
 "cells": [
  {
   "cell_type": "code",
   "execution_count": 1,
   "metadata": {},
   "outputs": [],
   "source": [
    "#Uncomment if needed:\n",
    "#%pip install ncrystal plotly kaleido \"git+https://github.com/highness-eu/ncmat-graphitic\""
   ]
  },
  {
   "cell_type": "code",
   "execution_count": 2,
   "metadata": {},
   "outputs": [],
   "source": [
    "import NCrystal as NC\n",
    "import numpy as np\n",
    "from plotly.subplots import make_subplots\n",
    "import plotly.graph_objects as go"
   ]
  },
  {
   "cell_type": "code",
   "execution_count": 3,
   "metadata": {},
   "outputs": [],
   "source": [
    "T = 300 # temperature "
   ]
  },
  {
   "cell_type": "code",
   "execution_count": 4,
   "metadata": {},
   "outputs": [],
   "source": [
    "wavelength = np.linspace(0,25,1000)\n",
    "E = NC.wl2ekin(wavelength)"
   ]
  },
  {
   "cell_type": "code",
   "execution_count": 5,
   "metadata": {},
   "outputs": [],
   "source": [
    "# deuterated\n",
    "GO_D_sm_nos = NC.createScatter('plugins::GraphiticData/HighNESS_DeuteratedGraphiteOxide_small_model_sg1_C8O3D2.ncmat;temp={}K'.format(T))\n",
    "GO_D_lg_nos = NC.createScatter('plugins::GraphiticData/HighNESS_DeuteratedGraphiteOxide_large_model_sg1_C18O3D2.ncmat;temp={}K'.format(T))\n",
    "GO_D_wt_nos = NC.createScatter('plugins::GraphiticData/HighNESS_DeuteratedGraphiteOxideWater_sg1_C8O3D2-D2O.ncmat;temp={}K'.format(T))\n",
    "\n",
    "xs_GO_D_sm_nos = GO_D_sm_nos.xsect(E)\n",
    "xs_GO_D_lg_nos = GO_D_lg_nos.xsect(E)\n",
    "xs_GO_D_wt_nos = GO_D_wt_nos.xsect(E)"
   ]
  },
  {
   "cell_type": "code",
   "execution_count": 6,
   "metadata": {},
   "outputs": [
    {
     "data": {
      "image/svg+xml": [
       "<svg class=\"main-svg\" xmlns=\"http://www.w3.org/2000/svg\" xmlns:xlink=\"http://www.w3.org/1999/xlink\" width=\"700\" height=\"500\" style=\"\" viewBox=\"0 0 700 500\"><rect x=\"0\" y=\"0\" width=\"700\" height=\"500\" style=\"fill: rgb(0, 0, 0); fill-opacity: 0;\"/><defs id=\"defs-32b7ce\"><g class=\"clips\"><clipPath id=\"clip32b7cexyplot\" class=\"plotclip\"><rect width=\"600\" height=\"408\"/></clipPath><clipPath class=\"axesclip\" id=\"clip32b7cex\"><rect x=\"80\" y=\"0\" width=\"600\" height=\"500\"/></clipPath><clipPath class=\"axesclip\" id=\"clip32b7cey\"><rect x=\"0\" y=\"20\" width=\"700\" height=\"408\"/></clipPath><clipPath class=\"axesclip\" id=\"clip32b7cexy\"><rect x=\"80\" y=\"20\" width=\"600\" height=\"408\"/></clipPath></g><g class=\"gradients\"/><g class=\"patterns\"/></defs><g class=\"bglayer\"><rect class=\"bg\" x=\"80\" y=\"20\" width=\"600\" height=\"408\" style=\"fill: rgb(0, 0, 0); fill-opacity: 0; stroke-width: 0;\"/></g><g class=\"layer-below\"><g class=\"imagelayer\"/><g class=\"shapelayer\"/></g><g class=\"cartesianlayer\"><g class=\"subplot xy\"><g class=\"layer-subplot\"><g class=\"shapelayer\"/><g class=\"imagelayer\"/></g><g class=\"minor-gridlayer\"><g class=\"x\"/><g class=\"y\"/></g><g class=\"gridlayer\"><g class=\"x\"><path class=\"xgrid crisp\" transform=\"translate(200,0)\" d=\"M0,20v408\" style=\"stroke: rgb(128, 128, 128); stroke-opacity: 1; stroke-width: 0.5px;\"/><path class=\"xgrid crisp\" transform=\"translate(320,0)\" d=\"M0,20v408\" style=\"stroke: rgb(128, 128, 128); stroke-opacity: 1; stroke-width: 0.5px;\"/><path class=\"xgrid crisp\" transform=\"translate(440,0)\" d=\"M0,20v408\" style=\"stroke: rgb(128, 128, 128); stroke-opacity: 1; stroke-width: 0.5px;\"/><path class=\"xgrid crisp\" transform=\"translate(560,0)\" d=\"M0,20v408\" style=\"stroke: rgb(128, 128, 128); stroke-opacity: 1; stroke-width: 0.5px;\"/></g><g class=\"y\"><path class=\"ygrid crisp\" transform=\"translate(0,346.4)\" d=\"M80,0h600\" style=\"stroke: rgb(128, 128, 128); stroke-opacity: 1; stroke-width: 0.5px;\"/><path class=\"ygrid crisp\" transform=\"translate(0,264.8)\" d=\"M80,0h600\" style=\"stroke: rgb(128, 128, 128); stroke-opacity: 1; stroke-width: 0.5px;\"/><path class=\"ygrid crisp\" transform=\"translate(0,183.2)\" d=\"M80,0h600\" style=\"stroke: rgb(128, 128, 128); stroke-opacity: 1; stroke-width: 0.5px;\"/><path class=\"ygrid crisp\" transform=\"translate(0,101.6)\" d=\"M80,0h600\" style=\"stroke: rgb(128, 128, 128); stroke-opacity: 1; stroke-width: 0.5px;\"/></g></g><g class=\"zerolinelayer\"/><g class=\"layer-between\"><g class=\"shapelayer\"/><g class=\"imagelayer\"/></g><path class=\"xlines-below\"/><path class=\"ylines-below\"/><g class=\"overlines-below\"/><g class=\"xaxislayer-below\"/><g class=\"yaxislayer-below\"/><g class=\"overaxes-below\"/><g class=\"overplot\"><g class=\"xy\" transform=\"translate(80,20)\" clip-path=\"url(#clip32b7cexyplot)\"><g class=\"scatterlayer mlayer\"><g class=\"trace scatter trace10e503\" style=\"stroke-miterlimit: 2; opacity: 1;\"><g class=\"fills\"/><g class=\"errorbars\"/><g class=\"lines\"><path class=\"js-line\" d=\"M0,232.81L6.01,232.15L6.61,232L13.81,229.59L14.41,229.19L18.62,227.48L19.22,226.81L20.42,226.04L21.02,225.32L22.22,224.47L22.82,226.04L24.62,223.09L25.23,221.38L28.23,217.41L28.83,218.29L29.43,217.84L30.03,221.26L32.43,215.37L33.03,214.73L34.23,218.28L34.83,221.02L35.44,218.82L36.04,219.55L37.84,217.75L38.44,217.47L39.04,216.74L39.64,218.23L40.24,217.92L40.84,215.35L44.44,205.76L45.05,206.03L46.25,205.67L46.85,203.62L49.25,195.43L49.85,201.2L51.05,200.93L51.65,211.35L53.45,206.98L54.05,207.33L54.65,204.53L55.26,213.75L56.46,209.26L57.06,218.55L57.66,222.07L58.26,220.08L58.86,218.89L59.46,231.4L60.66,247.39L61.26,245.04L61.86,242.81L62.46,244.87L63.06,246.36L63.66,245.02L64.26,245.04L64.86,243.82L65.47,243.57L66.07,241.61L66.67,239.49L67.27,240.57L69.67,233.53L70.27,231.19L70.87,231.59L71.47,230.41L72.67,236.74L73.27,236.96L74.47,233.52L75.08,233.86L75.68,233.23L76.28,234.13L76.88,232.06L77.48,230.21L78.08,238.09L78.68,237.43L79.28,235.16L82.88,222.92L83.48,229.48L88.89,211.08L89.49,213.19L94.89,194.3L95.5,207.58L96.7,203.1L97.3,205.87L97.9,206.46L98.5,204.27L99.1,204.54L99.7,210.79L100.9,206.58L101.5,206.76L102.1,207.5L105.11,249.69L105.71,248.37L109.91,239.47L110.51,238.47L112.91,232.04L113.51,240.69L114.71,237.62L115.32,239L116.52,235.95L117.12,276.34L118.32,280.52L118.92,279.46L120.12,278.38L120.72,281.28L124.32,275.01L124.92,278.77L125.53,282.79L126.13,281.81L126.73,280.83L129.13,277.33L129.73,281.39L145.35,255.07L145.95,254L148.95,248.58L149.55,256.19L150.15,259.49L150.75,258.49L154.95,251.38L155.56,253.27L156.16,257.04L156.76,256.06L157.36,255.07L160.36,250.11L160.96,270.62L161.56,272.9L162.16,272.07L180.18,245.91L180.78,244.99L183.78,240.36L184.38,260.17L189.79,252.86L190.39,254.25L190.99,254.59L191.59,253.78L193.99,250.52L194.59,255.87L195.2,256.24L195.8,255.46L206.61,241.03L207.21,271.91L207.81,271.27L208.41,273.29L230.63,248.89L231.23,248.2L233.63,245.42L234.23,370L467.27,346.41L467.87,348.08L600,335.18\" style=\"vector-effect: none; fill: none; stroke: rgb(99, 110, 250); stroke-opacity: 1; stroke-width: 2px; opacity: 1;\"/></g><g class=\"points\"/><g class=\"text\"/></g><g class=\"trace scatter traceddbae0\" style=\"stroke-miterlimit: 2; opacity: 1;\"><g class=\"fills\"/><g class=\"errorbars\"/><g class=\"lines\"><path class=\"js-line\" d=\"M0,225.17L7.21,224.52L7.81,224.41L15.02,222.25L15.62,222.02L17.42,221.67L18.02,220.91L22.22,218.24L22.82,219.38L27.63,211.13L28.23,211.59L29.43,212.75L30.03,214.18L31.83,211.1L32.43,211.06L33.03,209.48L33.63,210.77L34.83,214.27L35.44,213.28L38.44,210.33L39.04,212.58L42.64,202.18L43.24,200.38L44.44,196.75L45.05,197.11L46.25,196.12L46.85,193.19L48.05,195.42L48.65,193.64L50.45,192.5L51.05,195.39L52.25,200.04L52.85,197.07L54.05,204.89L54.65,203.6L55.26,202.38L55.86,203.2L57.66,210.79L58.26,224.42L58.86,226.35L59.46,247.83L60.06,247.67L60.66,246.7L63.66,241.31L64.26,239.26L66.07,235.79L66.67,235.79L70.27,226.24L70.87,227.24L72.67,223.23L73.27,223.55L73.87,222.75L74.47,229.09L75.08,228.88L75.68,226.44L76.28,224.28L76.88,225.28L77.48,223.57L78.08,224.38L80.48,217.94L81.08,218.04L84.68,206.05L85.29,204.78L85.89,204.54L86.49,202.78L87.69,198.78L88.29,200.87L89.49,196.59L90.09,197.81L90.69,195.27L91.29,200.8L91.89,198.57L92.49,201.83L94.29,195.04L94.89,195.92L95.5,194.23L96.1,198L96.7,199.91L97.3,197.55L97.9,197.37L98.5,195.11L99.1,193.94L99.7,198.31L101.5,194.2L102.1,201.65L103.3,224.32L103.9,224.62L106.31,218.61L106.91,218.59L107.51,217.96L108.11,216.05L111.11,207.84L111.71,261.8L115.92,255.05L116.52,255.14L117.12,254.83L117.72,253.45L118.32,253.07L118.92,251.68L119.52,251.7L120.12,250.32L122.52,246.09L123.12,246.07L124.92,241.84L125.53,242.49L132.13,227.35L132.73,228.56L133.33,228.33L133.93,226.88L134.53,226.81L135.14,225.35L140.54,212.99L141.14,216.1L143.54,210.35L144.14,214.06L144.74,215.51L145.35,214.62L146.55,211.72L147.15,212.71L153.15,198.36L153.75,198.85L154.95,196.65L155.56,195.15L159.76,184.51L160.36,185.37L163.96,176.66L164.56,177.27L168.77,168.27L169.37,167.57L169.97,165.99L170.57,166.52L171.17,164.95L172.97,160.2L173.57,160.93L174.77,157.76L175.38,166.65L177.18,162.05L177.78,162.42L178.38,164.23L178.98,165.75L179.58,164.25L182.58,156.67L183.18,165.83L186.19,158.45L186.79,160.87L188.59,156.45L189.19,157.3L206.61,112.75L207.21,111.15L222.22,69.55L222.82,330.77L242.64,320.21L243.24,326.27L245.65,325.06L246.25,326.62L250.45,324.53L251.05,336.59L256.46,334.4L257.06,345.56L261.26,344.2L261.86,346.18L264.26,345.43L264.86,353.78L306.91,342.78L307.51,348.93L308.11,352.46L308.71,371.71L445.05,359.71L445.65,360.5L499.7,355.84L500.3,355.79L600,347.15\" style=\"vector-effect: none; fill: none; stroke: rgb(239, 85, 59); stroke-opacity: 1; stroke-dasharray: 9px, 9px; stroke-width: 2px; opacity: 1;\"/></g><g class=\"points\"/><g class=\"text\"/></g><g class=\"trace scatter trace4e765d\" style=\"stroke-miterlimit: 2; opacity: 1;\"><g class=\"fills\"/><g class=\"errorbars\"/><g class=\"lines\"><path class=\"js-line\" d=\"M0,238.81L5.41,238.06L6.01,237.88L12.01,235.24L12.61,234.79L21.02,227.44L21.62,226.71L22.22,226.28L22.82,227.22L25.83,222.52L26.43,221.6L28.23,219.49L28.83,219.88L29.43,220.13L30.03,221.49L33.03,216.45L33.63,216.98L34.23,217.54L34.83,220.15L35.44,219.85L36.04,217.59L36.64,219.02L37.24,217.77L38.44,216.49L39.04,217.16L39.64,217.6L40.24,216.25L44.44,204.99L45.05,205.01L45.65,205.38L46.25,202.97L47.45,201.47L48.05,200.17L48.65,201.84L49.25,200.94L49.85,200.94L50.45,202.12L51.65,202.11L52.25,205.95L54.05,203.55L54.65,204.14L55.86,201.97L56.46,206.44L57.06,207.38L57.66,211.44L58.86,216.34L59.46,224.4L60.06,237.54L60.66,236.95L61.26,234.86L62.46,232.91L63.06,232.08L64.26,232.3L64.86,231.19L67.27,225.42L67.87,225.06L70.87,218.67L71.47,219.05L72.67,215.66L73.27,216.99L73.87,216.07L74.47,218.74L76.28,215.38L76.88,216.26L77.48,214.14L78.08,214.67L78.68,215.5L79.28,213.26L79.88,215.62L84.68,199.44L85.29,197.65L86.49,197.85L87.09,197.25L90.09,190.43L90.69,192.9L92.49,187.15L93.09,191.56L94.89,188.73L95.5,186.62L96.1,184.28L96.7,184.96L97.3,182.62L97.9,187.06L98.5,184.79L99.1,200.93L100.3,199.01L100.9,199.84L104.5,243.06L105.11,241.8L111.11,227.98L111.71,227.73L112.31,226.17L112.91,227.33L115.32,221.11L115.92,223.15L117.12,220.72L117.72,223.88L118.32,229.48L118.92,228.97L119.52,228.17L120.12,229.03L120.72,227.59L121.32,230.89L121.92,229.49L122.52,237.13L123.12,235.8L123.72,235.45L137.54,203.37L138.14,201.9L138.74,200.43L139.34,201.43L139.94,199.96L140.54,201.37L141.74,198.46L142.34,215.04L143.54,212.4L144.14,213.68L145.95,211.01L146.55,227.99L147.75,225.64L148.35,265.04L165.17,239.82L165.77,250.14L166.37,249.27L166.97,255.49L168.77,253.02L169.37,254.21L171.17,251.74L171.77,270.3L173.57,268.24L174.17,271.41L192.19,250.22L192.79,251.45L193.39,252.38L193.99,251.66L195.2,250.22L195.8,267.28L197,266.04L197.6,271.2L198.2,270.61L198.8,278.82L206.61,271.71L207.21,288.29L207.81,287.83L208.41,295.95L233.63,277.84L234.23,277.39L266.07,252.08L266.67,251.58L295.5,226.31L296.1,339.09L557.36,299.15L557.96,299.05L600,292.68\" style=\"vector-effect: none; fill: none; stroke: rgb(0, 204, 150); stroke-opacity: 1; stroke-dasharray: 3px, 3px; stroke-width: 2px; opacity: 1;\"/></g><g class=\"points\"/><g class=\"text\"/></g></g></g></g><path class=\"xlines-above crisp\" d=\"M79,428.5H681M79,19.5H681\" style=\"fill: none; stroke-width: 1px; stroke: rgb(0, 0, 0); stroke-opacity: 1;\"/><path class=\"ylines-above crisp\" d=\"M79.5,20V428M680.5,20V428\" style=\"fill: none; stroke-width: 1px; stroke: rgb(0, 0, 0); stroke-opacity: 1;\"/><g class=\"overlines-above\"/><g class=\"xaxislayer-above\"><path class=\"xtick ticks crisp\" d=\"M0,429v5\" transform=\"translate(80,0)\" style=\"stroke: rgb(68, 68, 68); stroke-opacity: 1; stroke-width: 1px;\"/><path class=\"xtick ticks crisp\" d=\"M0,429v5\" transform=\"translate(200,0)\" style=\"stroke: rgb(68, 68, 68); stroke-opacity: 1; stroke-width: 1px;\"/><path class=\"xtick ticks crisp\" d=\"M0,429v5\" transform=\"translate(320,0)\" style=\"stroke: rgb(68, 68, 68); stroke-opacity: 1; stroke-width: 1px;\"/><path class=\"xtick ticks crisp\" d=\"M0,429v5\" transform=\"translate(440,0)\" style=\"stroke: rgb(68, 68, 68); stroke-opacity: 1; stroke-width: 1px;\"/><path class=\"xtick ticks crisp\" d=\"M0,429v5\" transform=\"translate(560,0)\" style=\"stroke: rgb(68, 68, 68); stroke-opacity: 1; stroke-width: 1px;\"/><path class=\"xtick ticks crisp\" d=\"M0,429v5\" transform=\"translate(680,0)\" style=\"stroke: rgb(68, 68, 68); stroke-opacity: 1; stroke-width: 1px;\"/><g class=\"xtick\"><text text-anchor=\"middle\" x=\"0\" y=\"453.2\" transform=\"translate(80,0)\" style=\"font-family: 'Times new roman'; font-size: 16px; fill: rgb(42, 63, 95); fill-opacity: 1; white-space: pre; opacity: 1;\">0</text></g><g class=\"xtick\"><text text-anchor=\"middle\" x=\"0\" y=\"453.2\" style=\"font-family: 'Times new roman'; font-size: 16px; fill: rgb(42, 63, 95); fill-opacity: 1; white-space: pre; opacity: 1;\" transform=\"translate(200,0)\">5</text></g><g class=\"xtick\"><text text-anchor=\"middle\" x=\"0\" y=\"453.2\" style=\"font-family: 'Times new roman'; font-size: 16px; fill: rgb(42, 63, 95); fill-opacity: 1; white-space: pre; opacity: 1;\" transform=\"translate(320,0)\">10</text></g><g class=\"xtick\"><text text-anchor=\"middle\" x=\"0\" y=\"453.2\" style=\"font-family: 'Times new roman'; font-size: 16px; fill: rgb(42, 63, 95); fill-opacity: 1; white-space: pre; opacity: 1;\" transform=\"translate(440,0)\">15</text></g><g class=\"xtick\"><text text-anchor=\"middle\" x=\"0\" y=\"453.2\" style=\"font-family: 'Times new roman'; font-size: 16px; fill: rgb(42, 63, 95); fill-opacity: 1; white-space: pre; opacity: 1;\" transform=\"translate(560,0)\">20</text></g><g class=\"xtick\"><text text-anchor=\"middle\" x=\"0\" y=\"453.2\" style=\"font-family: 'Times new roman'; font-size: 16px; fill: rgb(42, 63, 95); fill-opacity: 1; white-space: pre; opacity: 1;\" transform=\"translate(680,0)\">25</text></g></g><g class=\"yaxislayer-above\"><path class=\"ytick ticks crisp\" d=\"M79,0h-5\" transform=\"translate(0,428)\" style=\"stroke: rgb(68, 68, 68); stroke-opacity: 1; stroke-width: 1px;\"/><path class=\"ytick ticks crisp\" d=\"M79,0h-5\" transform=\"translate(0,346.4)\" style=\"stroke: rgb(68, 68, 68); stroke-opacity: 1; stroke-width: 1px;\"/><path class=\"ytick ticks crisp\" d=\"M79,0h-5\" transform=\"translate(0,264.8)\" style=\"stroke: rgb(68, 68, 68); stroke-opacity: 1; stroke-width: 1px;\"/><path class=\"ytick ticks crisp\" d=\"M79,0h-5\" transform=\"translate(0,183.2)\" style=\"stroke: rgb(68, 68, 68); stroke-opacity: 1; stroke-width: 1px;\"/><path class=\"ytick ticks crisp\" d=\"M79,0h-5\" transform=\"translate(0,101.6)\" style=\"stroke: rgb(68, 68, 68); stroke-opacity: 1; stroke-width: 1px;\"/><path class=\"ytick ticks crisp\" d=\"M79,0h-5\" transform=\"translate(0,20)\" style=\"stroke: rgb(68, 68, 68); stroke-opacity: 1; stroke-width: 1px;\"/><g class=\"ytick\"><text text-anchor=\"end\" x=\"70.8\" y=\"5.6\" transform=\"translate(0,428)\" style=\"font-family: 'Times new roman'; font-size: 16px; fill: rgb(42, 63, 95); fill-opacity: 1; white-space: pre; opacity: 1;\">0</text></g><g class=\"ytick\"><text text-anchor=\"end\" x=\"70.8\" y=\"5.6\" style=\"font-family: 'Times new roman'; font-size: 16px; fill: rgb(42, 63, 95); fill-opacity: 1; white-space: pre; opacity: 1;\" transform=\"translate(0,346.4)\">2</text></g><g class=\"ytick\"><text text-anchor=\"end\" x=\"70.8\" y=\"5.6\" style=\"font-family: 'Times new roman'; font-size: 16px; fill: rgb(42, 63, 95); fill-opacity: 1; white-space: pre; opacity: 1;\" transform=\"translate(0,264.8)\">4</text></g><g class=\"ytick\"><text text-anchor=\"end\" x=\"70.8\" y=\"5.6\" style=\"font-family: 'Times new roman'; font-size: 16px; fill: rgb(42, 63, 95); fill-opacity: 1; white-space: pre; opacity: 1;\" transform=\"translate(0,183.2)\">6</text></g><g class=\"ytick\"><text text-anchor=\"end\" x=\"70.8\" y=\"5.6\" style=\"font-family: 'Times new roman'; font-size: 16px; fill: rgb(42, 63, 95); fill-opacity: 1; white-space: pre; opacity: 1;\" transform=\"translate(0,101.6)\">8</text></g><g class=\"ytick\"><text text-anchor=\"end\" x=\"70.8\" y=\"5.6\" style=\"font-family: 'Times new roman'; font-size: 16px; fill: rgb(42, 63, 95); fill-opacity: 1; white-space: pre; opacity: 1;\" transform=\"translate(0,20)\">10</text></g></g><g class=\"overaxes-above\"/></g></g><g class=\"polarlayer\"/><g class=\"smithlayer\"/><g class=\"ternarylayer\"/><g class=\"geolayer\"/><g class=\"funnelarealayer\"/><g class=\"pielayer\"/><g class=\"iciclelayer\"/><g class=\"treemaplayer\"/><g class=\"sunburstlayer\"/><g class=\"glimages\"/><defs id=\"topdefs-32b7ce\"><g class=\"clips\"/><clipPath id=\"legend32b7ce\"><rect width=\"372\" height=\"90\" x=\"1\" y=\"1\"/></clipPath></defs><g class=\"layer-above\"><g class=\"imagelayer\"/><g class=\"shapelayer\"/></g><g class=\"infolayer\"><g class=\"legend\" pointer-events=\"all\" transform=\"translate(306.2,20)\"><rect class=\"bg\" shape-rendering=\"crispEdges\" style=\"stroke: rgb(0, 0, 0); stroke-opacity: 1; fill: rgb(0, 0, 0); fill-opacity: 0; stroke-width: 1px;\" width=\"373\" height=\"91\" x=\"0.5\" y=\"0.5\"/><g class=\"scrollbox\" transform=\"\" clip-path=\"url(#legend32b7ce)\"><g class=\"groups\"><g class=\"traces\" transform=\"translate(1,19.200000000000003)\" style=\"opacity: 1;\"><text class=\"legendtext\" text-anchor=\"start\" x=\"40\" y=\"7.0200000000000005\" style=\"font-family: 'Times new roman'; font-size: 18px; fill: rgb(42, 63, 95); fill-opacity: 1; white-space: pre;\">Small model of deuterated GO</text><g class=\"layers\" style=\"opacity: 1;\"><g class=\"legendfill\"/><g class=\"legendlines\"><path class=\"js-line\" d=\"M5,0h30\" style=\"fill: none; stroke: rgb(99, 110, 250); stroke-opacity: 1; stroke-width: 2px;\"/></g><g class=\"legendsymbols\"><g class=\"legendpoints\"/></g></g><rect class=\"legendtoggle\" x=\"0\" y=\"-13.200000000000001\" width=\"366.359375\" height=\"26.400000000000002\" style=\"fill: rgb(0, 0, 0); fill-opacity: 0;\"/></g><g class=\"traces\" transform=\"translate(1,45.6)\" style=\"opacity: 1;\"><text class=\"legendtext\" text-anchor=\"start\" x=\"40\" y=\"7.0200000000000005\" style=\"font-family: 'Times new roman'; font-size: 18px; fill: rgb(42, 63, 95); fill-opacity: 1; white-space: pre;\">Large model of deuterated GO</text><g class=\"layers\" style=\"opacity: 1;\"><g class=\"legendfill\"/><g class=\"legendlines\"><path class=\"js-line\" d=\"M5,0h30\" style=\"fill: none; stroke: rgb(239, 85, 59); stroke-opacity: 1; stroke-dasharray: 9px, 9px; stroke-width: 2px;\"/></g><g class=\"legendsymbols\"><g class=\"legendpoints\"/></g></g><rect class=\"legendtoggle\" x=\"0\" y=\"-13.200000000000001\" width=\"366.359375\" height=\"26.400000000000002\" style=\"fill: rgb(0, 0, 0); fill-opacity: 0;\"/></g><g class=\"traces\" transform=\"translate(1,72)\" style=\"opacity: 1;\"><text class=\"legendtext\" text-anchor=\"start\" x=\"40\" y=\"7.0200000000000005\" style=\"font-family: 'Times new roman'; font-size: 18px; fill: rgb(42, 63, 95); fill-opacity: 1; white-space: pre;\">Deuterated GO intercalated with heavy water</text><g class=\"layers\" style=\"opacity: 1;\"><g class=\"legendfill\"/><g class=\"legendlines\"><path class=\"js-line\" d=\"M5,0h30\" style=\"fill: none; stroke: rgb(0, 204, 150); stroke-opacity: 1; stroke-dasharray: 3px, 3px; stroke-width: 2px;\"/></g><g class=\"legendsymbols\"><g class=\"legendpoints\"/></g></g><rect class=\"legendtoggle\" x=\"0\" y=\"-13.200000000000001\" width=\"366.359375\" height=\"26.400000000000002\" style=\"fill: rgb(0, 0, 0); fill-opacity: 0;\"/></g></g></g><rect class=\"scrollbar\" rx=\"20\" ry=\"3\" width=\"0\" height=\"0\" style=\"fill: rgb(128, 139, 164); fill-opacity: 1;\" x=\"0\" y=\"0\"/></g><g class=\"g-gtitle\"/><g class=\"g-xtitle\"><text class=\"xtitle\" x=\"380\" y=\"487.503125\" text-anchor=\"middle\" style=\"opacity: 1; font-family: 'Times new roman'; font-size: 24px; fill: rgb(42, 63, 95); fill-opacity: 1; white-space: pre;\">Neutron wavelength (Angstrom)</text></g><g class=\"g-ytitle\"><text class=\"ytitle\" transform=\"rotate(-90,31.896875,224)\" x=\"31.896875\" y=\"224\" text-anchor=\"middle\" style=\"opacity: 1; font-family: 'Times new roman'; font-size: 24px; fill: rgb(42, 63, 95); fill-opacity: 1; white-space: pre;\">Scattering cross section per atom (barn)</text></g></g></svg>"
      ]
     },
     "metadata": {},
     "output_type": "display_data"
    }
   ],
   "source": [
    "fig = make_subplots(rows = 1, cols = 1)\n",
    "fig.add_trace(\n",
    "    go.Scatter(\n",
    "        x = wavelength,\n",
    "        y = xs_GO_D_sm_nos,\n",
    "        mode = 'lines',\n",
    "        #line_dash = 'dash',\n",
    "        name = 'Small model of deuterated GO',\n",
    "    ),\n",
    "    row = 1, col = 1\n",
    ")\n",
    "fig.add_trace(\n",
    "    go.Scatter(\n",
    "        x = wavelength,\n",
    "        y = xs_GO_D_lg_nos,\n",
    "        mode = 'lines',\n",
    "        line_dash = 'dash',\n",
    "        name = 'Large model of deuterated GO',\n",
    "    ),\n",
    "    row = 1, col = 1\n",
    ")\n",
    "fig.add_trace(\n",
    "    go.Scatter(\n",
    "        x = wavelength,\n",
    "        y = xs_GO_D_wt_nos,\n",
    "        mode = 'lines',\n",
    "        line_dash = 'dot',\n",
    "        name = 'Deuterated GO intercalated with heavy water',\n",
    "    ),\n",
    "    row = 1, col = 1\n",
    ")\n",
    "\n",
    "fig.update_xaxes(tickfont = dict(size = 16), linecolor = 'black', mirror = True, \n",
    "                 ticks = 'outside', exponentformat = 'power', row = 1, col = 1, \n",
    "                 #type = 'log', \n",
    "                 title = 'Neutron wavelength (Angstrom)', \n",
    "                 showgrid=True, gridwidth=.5, gridcolor='grey')\n",
    "fig.update_yaxes(tickfont = dict(size = 16), linecolor = 'black', mirror = True, \n",
    "                 ticks = 'outside', exponentformat = 'power', row = 1, col = 1, \n",
    "                 #type = 'log', \n",
    "                 range = [0,10],\n",
    "                 title = 'Scattering cross section per atom (barn)',\n",
    "                 showgrid=True, gridwidth=.5, gridcolor='grey')\n",
    "fig.update_layout(\n",
    "    paper_bgcolor = 'rgba(0,0,0,0)',\n",
    "    plot_bgcolor = 'rgba(0,0,0,0)',\n",
    "    font = dict(family = 'Times new roman', size = 20),\n",
    "    legend = dict(x = 0.377, y = 1., bordercolor = \"Black\", borderwidth = 1, font = dict(size = 18)),\n",
    "    margin = dict(l = 80, r = 20, t = 20, b = 60),\n",
    "    autosize=False,\n",
    "    width=700,\n",
    "    height=500\n",
    ")\n",
    "fig.show('svg')"
   ]
  },
  {
   "cell_type": "code",
   "execution_count": null,
   "metadata": {},
   "outputs": [],
   "source": []
  }
 ],
 "metadata": {
  "kernelspec": {
   "display_name": "Python 3 (ipykernel)",
   "language": "python",
   "name": "python3"
  },
  "language_info": {
   "codemirror_mode": {
    "name": "ipython",
    "version": 3
   },
   "file_extension": ".py",
   "mimetype": "text/x-python",
   "name": "python",
   "nbconvert_exporter": "python",
   "pygments_lexer": "ipython3",
   "version": "3.12.3"
  }
 },
 "nbformat": 4,
 "nbformat_minor": 4
}
